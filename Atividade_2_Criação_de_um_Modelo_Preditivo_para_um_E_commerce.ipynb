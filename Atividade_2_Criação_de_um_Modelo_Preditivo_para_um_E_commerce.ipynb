{
  "nbformat": 4,
  "nbformat_minor": 0,
  "metadata": {
    "colab": {
      "provenance": [],
      "authorship_tag": "ABX9TyO6Jt0CCSu9c81uu9VV0S9W",
      "include_colab_link": true
    },
    "kernelspec": {
      "name": "python3",
      "display_name": "Python 3"
    },
    "language_info": {
      "name": "python"
    }
  },
  "cells": [
    {
      "cell_type": "markdown",
      "metadata": {
        "id": "view-in-github",
        "colab_type": "text"
      },
      "source": [
        "<a href=\"https://colab.research.google.com/github/VanessaCampoe/inteligencia-artificial-industria-_-SENAl-_200hs/blob/main/Atividade_2_Cria%C3%A7%C3%A3o_de_um_Modelo_Preditivo_para_um_E_commerce.ipynb\" target=\"_parent\"><img src=\"https://colab.research.google.com/assets/colab-badge.svg\" alt=\"Open In Colab\"/></a>"
      ]
    },
    {
      "cell_type": "code",
      "execution_count": 1,
      "metadata": {
        "colab": {
          "base_uri": "https://localhost:8080/"
        },
        "id": "MyTNY6RYJNkL",
        "outputId": "5a7a5ec3-21ff-4d06-ca93-de2b1ceefe02"
      },
      "outputs": [
        {
          "output_type": "stream",
          "name": "stdout",
          "text": [
            "Acurácia: 1.0\n",
            "\n",
            "Relatório de Classificação:\n",
            "               precision    recall  f1-score   support\n",
            "\n",
            "           0       1.00      1.00      1.00         2\n",
            "\n",
            "    accuracy                           1.00         2\n",
            "   macro avg       1.00      1.00      1.00         2\n",
            "weighted avg       1.00      1.00      1.00         2\n",
            "\n"
          ]
        }
      ],
      "source": [
        "# 1  bibliotecas\n",
        "import pandas as pd\n",
        "from sklearn.model_selection import train_test_split\n",
        "from sklearn.tree import DecisionTreeClassifier\n",
        "from sklearn.metrics import accuracy_score, classification_report\n",
        "\n",
        "# 2 conjunto de dados fictício\n",
        "#  DataFrame com colunas: idade, tempo_cadastro (em meses), email_aberto (0/1), clicou_link (0/1), comprou (0/1)\n",
        "dados = pd.DataFrame({\n",
        "    'idade': [25, 45, 30, 35, 50, 23, 40, 60, 20, 33],\n",
        "    'tempo_cadastro': [12, 24, 6, 18, 36, 3, 15, 48, 2, 20],\n",
        "    'email_aberto': [1, 1, 0, 1, 1, 0, 0, 1, 0, 1],\n",
        "    'clicou_link': [1, 0, 0, 1, 1, 0, 0, 1, 0, 0],\n",
        "    'comprou': [1, 0, 0, 1, 1, 0, 0, 1, 0, 0]\n",
        "})\n",
        "\n",
        "# 3 variáveis independentes (X) e dependente (y)\n",
        "X = dados[['idade', 'tempo_cadastro', 'email_aberto', 'clicou_link']]\n",
        "y = dados['comprou']\n",
        "\n",
        "# 4 treino e teste 80/20\n",
        "X_train, X_test, y_train, y_test = train_test_split(X, y, test_size=0.2, random_state=42)\n",
        "\n",
        "# 5 modelo DecisionTreeClassifier\n",
        "modelo = DecisionTreeClassifier(random_state=42)\n",
        "\n",
        "# 6 treinamento\n",
        "modelo.fit(X_train, y_train)\n",
        "\n",
        "# 7 previsão\n",
        "y_pred = modelo.predict(X_test)\n",
        "\n",
        "# 8 avaliação do modelo\n",
        "print(\"Acurácia:\", accuracy_score(y_test, y_pred))\n",
        "print(\"\\nRelatório de Classificação:\\n\", classification_report(y_test, y_pred))\n"
      ]
    }
  ]
}